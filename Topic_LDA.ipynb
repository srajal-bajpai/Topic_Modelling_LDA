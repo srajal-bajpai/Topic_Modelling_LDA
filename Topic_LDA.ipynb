{
 "cells": [
  {
   "cell_type": "code",
   "execution_count": 1,
   "id": "8cad75db",
   "metadata": {},
   "outputs": [
    {
     "name": "stderr",
     "output_type": "stream",
     "text": [
      "[nltk_data] Downloading package stopwords to\n",
      "[nltk_data]     C:\\Users\\sraja\\AppData\\Roaming\\nltk_data...\n",
      "[nltk_data]   Package stopwords is already up-to-date!\n",
      "[nltk_data] Downloading package punkt to\n",
      "[nltk_data]     C:\\Users\\sraja\\AppData\\Roaming\\nltk_data...\n",
      "[nltk_data]   Package punkt is already up-to-date!\n"
     ]
    },
    {
     "data": {
      "text/plain": [
       "True"
      ]
     },
     "execution_count": 1,
     "metadata": {},
     "output_type": "execute_result"
    }
   ],
   "source": [
    "import nltk\n",
    "nltk.download('stopwords')\n",
    "nltk.download('punkt')"
   ]
  },
  {
   "cell_type": "code",
   "execution_count": 2,
   "id": "dd0aebe8",
   "metadata": {},
   "outputs": [
    {
     "name": "stdout",
     "output_type": "stream",
     "text": [
      "Topic 0:\n",
      "long seriously also given never basti together medicine gas major\n",
      "Topic 1:\n",
      "living since area problem place even health tell back environment\n",
      "Topic 2:\n",
      "see affect doctor good together air gave problem ayushmann went\n",
      "Topic 3:\n",
      "bccl auto mine give coming took sleep time elaborate since\n",
      "Topic 4:\n",
      "child go see doctor government problem money issue water get\n",
      "Topic 5:\n",
      "live see doctor give money made sleep got work child\n",
      "Topic 6:\n",
      "problem since living place mine see gas health coming water\n",
      "Topic 7:\n",
      "people land hot even bccl body right one water danger\n",
      "Topic 8:\n",
      "health reason see day ask going feel problem elaborate trust\n",
      "Topic 9:\n",
      "right place subside much also gas water affect living major\n",
      "Topic 10:\n",
      "entire ache gave child one visit around would made met\n",
      "Topic 11:\n",
      "land sleep work subsided got money place house get right\n",
      "Topic 12:\n",
      "multiple year leave lakh body water house wake major much\n"
     ]
    }
   ],
   "source": [
    "import docx\n",
    "from nltk.corpus import stopwords\n",
    "from nltk.tokenize import word_tokenize\n",
    "from nltk.stem import WordNetLemmatizer\n",
    "from sklearn.feature_extraction.text import CountVectorizer\n",
    "from sklearn.decomposition import LatentDirichletAllocation\n",
    "import numpy as np\n",
    "\n",
    "# Function to read .docx file\n",
    "def read_docx(file_path):\n",
    "    doc = docx.Document(file_path)\n",
    "    text = []\n",
    "    for paragraph in doc.paragraphs:\n",
    "        text.append(paragraph.text)\n",
    "    return '\\n'.join(text)\n",
    "\n",
    "# Function to split text into segments\n",
    "def split_text(text, segment_length=500):\n",
    "    words = text.split()\n",
    "    segments = [' '.join(words[i:i + segment_length]) for i in range(0, len(words), segment_length)]\n",
    "    return segments\n",
    "\n",
    "# Function to preprocess text\n",
    "def preprocess_text(text):\n",
    "    stop_words = set(stopwords.words('english'))\n",
    "    lemmatizer = WordNetLemmatizer()\n",
    "    tokens = word_tokenize(text)\n",
    "    tokens = [word.lower() for word in tokens if word.isalpha()]\n",
    "    tokens = [word for word in tokens if word not in stop_words]\n",
    "    tokens = [lemmatizer.lemmatize(word) for word in tokens]\n",
    "    return ' '.join(tokens)\n",
    "\n",
    "# Read and preprocess the text data\n",
    "file_path = r\"C:\\Users\\sraja\\Downloads\\Interview 16 (1).docx\"   # Replace it with your .docx (transcript) file path\n",
    "text = read_docx(file_path)\n",
    "segments = split_text(text)\n",
    "\n",
    "# Preprocess each segment\n",
    "preprocessed_segments = [preprocess_text(segment) for segment in segments]\n",
    "\n",
    "# Vectorize the text data\n",
    "vectorizer = CountVectorizer(max_df=0.95, min_df=2)\n",
    "X = vectorizer.fit_transform(preprocessed_segments)\n",
    "\n",
    "# Perform LDA\n",
    "num_topics = 13  # Specify the number of topics\n",
    "lda = LatentDirichletAllocation(n_components=num_topics, max_iter=10, learning_method='online', random_state=42)\n",
    "lda.fit(X)\n",
    "\n",
    "# Display the topics and their corresponding words\n",
    "def display_topics(model, feature_names, no_top_words):\n",
    "    for topic_idx, topic in enumerate(model.components_):\n",
    "        print(f\"Topic {topic_idx}:\")\n",
    "        print(\" \".join([feature_names[i] for i in topic.argsort()[:-no_top_words - 1:-1]]))\n",
    "\n",
    "no_top_words = 10\n",
    "tf_feature_names = vectorizer.get_feature_names_out()\n",
    "display_topics(lda, tf_feature_names, no_top_words)\n"
   ]
  },
  {
   "cell_type": "code",
   "execution_count": null,
   "id": "d5ded424",
   "metadata": {},
   "outputs": [],
   "source": []
  }
 ],
 "metadata": {
  "kernelspec": {
   "display_name": "Python 3 (ipykernel)",
   "language": "python",
   "name": "python3"
  },
  "language_info": {
   "codemirror_mode": {
    "name": "ipython",
    "version": 3
   },
   "file_extension": ".py",
   "mimetype": "text/x-python",
   "name": "python",
   "nbconvert_exporter": "python",
   "pygments_lexer": "ipython3",
   "version": "3.9.13"
  }
 },
 "nbformat": 4,
 "nbformat_minor": 5
}
